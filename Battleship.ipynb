{
 "cells": [
  {
   "cell_type": "code",
   "execution_count": 3,
   "metadata": {},
   "outputs": [],
   "source": [
    "import numpy as np\n",
    "from random import randint"
   ]
  },
  {
   "cell_type": "code",
   "execution_count": 4,
   "metadata": {},
   "outputs": [
    {
     "name": "stdout",
     "output_type": "stream",
     "text": [
      "Bienvenido a hundir la flota\n",
      "Hay varios barcos escondidos en este tablero, trata de hundirlos\n"
     ]
    }
   ],
   "source": [
    "from message import mensaje_de_bienvenida"
   ]
  },
  {
   "cell_type": "code",
   "execution_count": 5,
   "metadata": {},
   "outputs": [
    {
     "name": "stdout",
     "output_type": "stream",
     "text": [
      "Bienvenido a hundir la flota\n",
      "Hay varios barcos escondidos en este tablero, trata de hundirlos\n"
     ]
    }
   ],
   "source": [
    "mensaje_de_bienvenida()"
   ]
  },
  {
   "cell_type": "code",
   "execution_count": 6,
   "metadata": {},
   "outputs": [],
   "source": [
    "#Barcos máquina con posiciones definidas:\n",
    "corbeta1 = [(0,1)]\n",
    "corbeta2 = [(1,0)]\n",
    "corbeta3 = [(2,1)]\n",
    "corbeta4 = [(0,4)]\n",
    "fragata1 = [(4,3),(4,5)]\n",
    "fragata2 = [(6,4),(6,6)]\n",
    "fragata3 = [(8,5),(8,7)]\n",
    "crucero1 = [(3,3),(3,4),(3,5)]\n",
    "crucero2 = [(5,7),(5,8),(5,9)]\n",
    "portaaviones = [(10,3),(10,4),(10,5),(10,6)]\n",
    "barcos_dic_pos = {\"corbeta1\" : corbeta1, \"corbeta2\" : corbeta2, \"corbeta3\" : corbeta3,\n",
    "                    \"corbeta4\" : corbeta4, \"fragata1\" : fragata1, \"fragata2\" : fragata2, \n",
    "                    \"fragata3\" : fragata3, \"crucero1\": crucero1, \"crucero2\": crucero2,\n",
    "                    \"portaaviones\": portaaviones}"
   ]
  },
  {
   "cell_type": "code",
   "execution_count": 7,
   "metadata": {},
   "outputs": [
    {
     "name": "stdout",
     "output_type": "stream",
     "text": [
      "[[' ' 'B' ' ' ' ' 'B' ' ' ' ' ' ' ' ' ' ']\n",
      " ['B' ' ' ' ' ' ' ' ' ' ' ' ' ' ' ' ' ' ']\n",
      " [' ' 'B' ' ' ' ' ' ' ' ' ' ' ' ' ' ' ' ']\n",
      " [' ' ' ' ' ' 'B' 'B' 'B' ' ' ' ' ' ' ' ']\n",
      " [' ' ' ' ' ' 'B' 'B' ' ' ' ' ' ' ' ' ' ']\n",
      " [' ' ' ' ' ' ' ' ' ' ' ' ' ' 'B' 'B' 'B']\n",
      " [' ' ' ' ' ' ' ' 'B' 'B' ' ' ' ' ' ' ' ']\n",
      " [' ' ' ' ' ' ' ' ' ' ' ' ' ' ' ' ' ' ' ']\n",
      " [' ' ' ' ' ' ' ' ' ' 'B' 'B' ' ' ' ' ' ']\n",
      " [' ' ' ' ' ' 'B' 'B' 'B' 'B' ' ' ' ' ' ']]\n"
     ]
    }
   ],
   "source": [
    "#Tablero máquina con barcos posicionados:\n",
    "tablero_maquina = np.full(fill_value = ' ', shape = (10, 10))\n",
    "#corbeta1\n",
    "tablero_maquina[0][1]=\"B\"\n",
    "#corbeta2\n",
    "tablero_maquina[1][0]=\"B\"\n",
    "#corbeta3\n",
    "tablero_maquina[2][1]=\"B\"\n",
    "#corbeta4\n",
    "tablero_maquina[0][4]=\"B\"\n",
    "#fragata1\n",
    "tablero_maquina[4][3:5]=\"B\"\n",
    "#fragata2\n",
    "tablero_maquina[6][4:6]=\"B\"\n",
    "#fragata3\n",
    "tablero_maquina[8][5:7]=\"B\"\n",
    "#crucero1\n",
    "tablero_maquina[3][3:6]=\"B\"\n",
    "#crucero2\n",
    "tablero_maquina[5][7:10]=\"B\"\n",
    "#portaaviones\n",
    "tablero_maquina[9][3:7]=\"B\"\n",
    "print(tablero_maquina)\n"
   ]
  },
  {
   "cell_type": "code",
   "execution_count": 8,
   "metadata": {},
   "outputs": [],
   "source": [
    "#Barcos jugador con posiciones definidas:\n",
    "corbeta1 = [(0,3)]\n",
    "corbeta2 = [(2,0)]\n",
    "corbeta3 = [(4,3)]\n",
    "corbeta4 = [(0,6)]\n",
    "fragata1 = [(3,4),(3,6)]\n",
    "fragata2 = [(6,5),(6,8)]\n",
    "fragata3 = [(9,6),(9,8)]\n",
    "crucero1 = [(1,3),(1,4),(1,5)]\n",
    "crucero2 = [(7,7),(7,8),(7,9)]\n",
    "portaaviones = [(10,1),(10,2),(10,3),(10,4)]\n",
    "barcos_dic_pos = {\"corbeta1\" : corbeta1, \"corbeta2\" : corbeta2, \"corbeta3\" : corbeta3,\n",
    "                    \"corbeta4\" : corbeta4, \"fragata1\" : fragata1, \"fragata2\" : fragata2, \n",
    "                    \"fragata3\" : fragata3, \"crucero1\": crucero1, \"crucero2\": crucero2,\n",
    "                    \"portaaviones\": portaaviones}"
   ]
  },
  {
   "cell_type": "code",
   "execution_count": 9,
   "metadata": {},
   "outputs": [
    {
     "name": "stdout",
     "output_type": "stream",
     "text": [
      "[[' ' ' ' ' ' 'V' ' ' ' ' 'V' ' ' ' ' ' ']\n",
      " [' ' ' ' ' ' 'V' 'V' 'V' ' ' ' ' ' ' ' ']\n",
      " ['V' ' ' ' ' ' ' ' ' ' ' ' ' ' ' ' ' ' ']\n",
      " [' ' ' ' ' ' ' ' 'V' 'V' ' ' ' ' ' ' ' ']\n",
      " [' ' ' ' ' ' 'V' ' ' ' ' ' ' ' ' ' ' ' ']\n",
      " [' ' ' ' ' ' ' ' ' ' ' ' ' ' ' ' ' ' ' ']\n",
      " [' ' ' ' ' ' ' ' ' ' 'V' 'V' 'V' ' ' ' ']\n",
      " [' ' ' ' ' ' ' ' ' ' ' ' ' ' 'V' 'V' ' ']\n",
      " [' ' ' ' ' ' ' ' ' ' ' ' ' ' ' ' ' ' ' ']\n",
      " [' ' 'V' 'V' 'V' 'V' ' ' 'V' 'V' ' ' ' ']]\n"
     ]
    }
   ],
   "source": [
    "#Tablero jugador con barcos posicionados:\n",
    "tablero_jugador = np.full(fill_value = ' ', shape = (10, 10))\n",
    "#corbeta1\n",
    "tablero_jugador[0][3]=\"V\"\n",
    "#corbeta2\n",
    "tablero_jugador[2][0]=\"V\"\n",
    "#corbeta3\n",
    "tablero_jugador[4][3]=\"V\"\n",
    "#corbeta4\n",
    "tablero_jugador[0][6]=\"V\"\n",
    "#fragata1\n",
    "tablero_jugador[3][4:6]=\"V\"\n",
    "#fragata2\n",
    "tablero_jugador[6][5:8]=\"V\"\n",
    "#fragata3\n",
    "tablero_jugador[9][6:8]=\"V\"\n",
    "#crucero1\n",
    "tablero_jugador[1][3:6]=\"V\"\n",
    "#crucero2\n",
    "tablero_jugador[7][7:9]=\"V\"\n",
    "#portaaviones\n",
    "tablero_jugador[9][1:5]=\"V\"\n",
    "print(tablero_jugador)"
   ]
  },
  {
   "cell_type": "code",
   "execution_count": 10,
   "metadata": {},
   "outputs": [],
   "source": [
    "def disparo():\n",
    "    x = int(input(\"Introduce una coordenada: \"))\n",
    "    y = int(input(\"Introduce una segunda coordenada: \"))\n",
    "    if x>10 or y>10:\n",
    "        print(\"Coordenada no válida, introduce coordenada del 0 al 10\")\n",
    "    if tablero_maquina[x][y]== \"B\":\n",
    "        tablero_maquina[x][y] = \"X\"\n",
    "        print(\"acierto\")\n",
    "        print(tablero_maquina) \n",
    "    else:\n",
    "        tablero_maquina[x][y] = \"A\"\n",
    "        print(\"fallaste\")\n",
    "        print(tablero_maquina)\n",
    "\n",
    "\n",
    "def fuego():\n",
    "    x = np.random.randint(0,10)\n",
    "    y = np.random.randint(0,10)\n",
    "    if x>10 or y>10:\n",
    "        print(\"Coordenada no válida, introduce coordenada del 0 al 10\")\n",
    "    if tablero_jugador[x][y]== \"V\":\n",
    "        tablero_jugador[x][y] = \"X\"\n",
    "        print(\"acierto\")\n",
    "        print(tablero_jugador) \n",
    "    else:\n",
    "        tablero_jugador[x][y] = \"A\"\n",
    "        print(\"fallaste\")\n",
    "        print(tablero_jugador) "
   ]
  },
  {
   "cell_type": "code",
   "execution_count": 11,
   "metadata": {},
   "outputs": [],
   "source": [
    "def jugar_partida(intentos=20):\n",
    "    print(\"empieza la partida\")\n",
    "    while intentos:\n",
    "        print(f\"Intento: {intentos}\")\n",
    "        disparo()\n",
    "        fuego()\n",
    "        intentos = intentos - 1\n",
    "    print(\"fin de la partida\")"
   ]
  },
  {
   "cell_type": "code",
   "execution_count": 13,
   "metadata": {},
   "outputs": [
    {
     "name": "stdout",
     "output_type": "stream",
     "text": [
      "empieza la partida\n",
      "Intento: 20\n"
     ]
    }
   ],
   "source": [
    "jugar_partida()"
   ]
  }
 ],
 "metadata": {
  "interpreter": {
   "hash": "465b67457ed07dc5ab4e50be9ce3de2171c2c2afe56ec4baf7244b10fe49a693"
  },
  "kernelspec": {
   "display_name": "Python 3.7.4 64-bit",
   "name": "python3"
  },
  "language_info": {
   "codemirror_mode": {
    "name": "ipython",
    "version": 3
   },
   "file_extension": ".py",
   "mimetype": "text/x-python",
   "name": "python",
   "nbconvert_exporter": "python",
   "pygments_lexer": "ipython3",
   "version": "3.7.4"
  },
  "orig_nbformat": 4
 },
 "nbformat": 4,
 "nbformat_minor": 2
}
